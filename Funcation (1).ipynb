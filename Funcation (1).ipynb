{
 "cells": [
  {
   "cell_type": "markdown",
   "id": "8b0952e9-553f-4b4d-bd99-64a73dc54377",
   "metadata": {},
   "source": [
    "Funcations-Theoretical questions"
   ]
  },
  {
   "cell_type": "markdown",
   "id": "29191163-6c63-43cd-9fd4-e877e15a91f0",
   "metadata": {},
   "source": [
    "# Q.1  What is the difference between a function and a method in Python?\n",
    "\n",
    "| Feature            | Function                         | Method                                  |\n",
    "| ------------------ | -------------------------------- | --------------------------------------- |\n",
    "| Belongs to         | Independent (not tied to object) | Tied to an object (like string, list)   |\n",
    "| Definition keyword | Defined using `def`              | Defined inside a class or object        |\n",
    "| How to call        | `function_name()`                | `object.method_name()`                  |\n",
    "| Example            | `def greet():`<br>`greet()`      | `\"komal\".upper()`                       |\n",
    "| Used with          | General purpose                  | Specific to data types (str, list, etc) |\n"
   ]
  },
  {
   "cell_type": "markdown",
   "id": "d4ff9f86-c22b-45cf-a11f-4113a36ac581",
   "metadata": {},
   "source": [
    "# Q.2 Explain the concept of function arguments and parameters in Python.\n",
    "ANS:  \n",
    "Parameter = variable in function definition  \n",
    "Argument = value you give when calling function\n",
    "- EXAMPE:\n",
    "def add(a, b):   # a and b = parameters  \n",
    "  return a + b  \n",
    "print(add(3, 5))  # 3 and 5 = arguments\n",
    "\n",
    "- Types of Arguments:\n",
    "\n",
    "Positional → order matters\n",
    "\n",
    "Keyword → name=value\n",
    "\n",
    "Default → value if not given\n",
    "\n",
    "Variable-length → *args, **kwargs\n",
    "\n",
    "\n"
   ]
  },
  {
   "cell_type": "markdown",
   "id": "67319ebd-7179-4191-8309-b98046ceadbf",
   "metadata": {},
   "source": [
    "# Q.3 What are the different ways to define and call a function in Python?\n",
    "ANS:  \n",
    "1. Define function:  \n",
    "     def hello():  \n",
    "   print(\"Hello Komal\")  \n",
    "\n",
    "2. Call function:  \n",
    "    hello()  \n",
    "\n",
    "3. With return:  \n",
    "   def add(a, b):  \n",
    "     return a + b  \n",
    "   print(add(2, 3))  \n",
    "\n",
    "4. Lambda function:  \n",
    "     square = lambda x: x * x  \n",
    "   print(square(4))\n"
   ]
  },
  {
   "cell_type": "markdown",
   "id": "3964ed92-92fb-43d9-a278-02ead089a968",
   "metadata": {},
   "source": [
    "# Q.4 What is the purpose of the return statement in a Python function?\n",
    "ANS:  \n",
    "return gives output back to the caller.  \n",
    "Ends the function execution.  \n",
    "- Example:  \n",
    "def square(x):  \n",
    "   return x * x  \n",
    "result = square(5)  \n",
    "print(result)  # Output: 25"
   ]
  },
  {
   "cell_type": "markdown",
   "id": "dd1b8019-4ba1-4253-beea-ac8732920b58",
   "metadata": {},
   "source": [
    "# Q.5 What are iterators in Python and how do they differ from iterables?\n",
    "ANS:  \n",
    "Iterable = can loop over (like list, tuple, string)  \n",
    "\n",
    "Iterator = gives one item at a time using next()  \n",
    "- Differ:\n",
    "nums = [1, 2, 3]      # Iterable  \n",
    "it = iter(nums)       # Make iterator  \n",
    "print(next(it))       # 1  \n",
    "print(next(it))       # 2\n"
   ]
  },
  {
   "cell_type": "markdown",
   "id": "5143f4dc-19df-4ba7-9903-17db987a5077",
   "metadata": {},
   "source": [
    "# Q.6 Explain the concept of generators in Python and how they are defined.\n",
    "ANS:  \n",
    "Generator = special function that remembers its state using yield.  \n",
    "It does not store all values in memory → good for large data.  \n",
    "def my_gen():  \n",
    "    yield 1  \n",
    "    yield 2  \n",
    "    yield 3\n",
    "- Differ:  \n",
    "g = my_gen()  \n",
    "print(next(g))  # 1  \n",
    "print(next(g))  # 2\n",
    "- How to define:  \n",
    "Use def + yield keyword."
   ]
  },
  {
   "cell_type": "markdown",
   "id": "aec85e84-61c4-42c4-88b9-5186b728c95d",
   "metadata": {},
   "source": [
    "# Q.7 what are the advantages of using genarators over reguler functions?\n",
    "ANS:  \n",
    "- Advantages of Using Generators Over Regular Functions\n",
    "\n",
    "1. Memory Efficient\n",
    "Generators do not store the entire result in memory. They produce values one by one as needed. This saves memory, especially when working with large datasets.\n",
    "\n",
    "2. Faster Execution Start\n",
    "Since generators give one value at a time, they do not need to wait to prepare all values. This leads to a faster start in execution compared to regular functions that return a full list.\n",
    "\n",
    "3. Can Handle Infinite Sequences\n",
    "Generators can represent infinite data streams (e.g., sensor data, counters) because they generate data on demand. Regular functions cannot do this efficiently.\n",
    "\n",
    "4. Lazy Evaluation\n",
    "Generators use lazy evaluation, meaning values are only produced when asked. This helps in improving performance and reducing unnecessary computation.\n"
   ]
  },
  {
   "cell_type": "markdown",
   "id": "d590dff5-4b02-40e0-b1e3-0902fe50adf9",
   "metadata": {},
   "source": [
    "# Q.8 What is a lambda function in Python and when is it typically used?\n",
    "ANS:  \n",
    "Lambda = small anonymous (no name) function  \n",
    "Syntax: lambda arguments: expression  \n",
    "\n",
    "square = lambda x: x * x  \n",
    "print(square(5))  # Output: 25\n",
    " - Used in:  \n",
    "map(), filter(), reduce()"
   ]
  },
  {
   "cell_type": "markdown",
   "id": "a4a80ff9-e25a-43e2-984d-b2777c12af0f",
   "metadata": {},
   "source": [
    "# Q.9 Explain the purpose and usage of the map() function in Python.\n",
    "ANS:  \n",
    "- map() applies a function to every item in an iterable (like list).\n",
    "- The map() function in python i sused to apply a specific function to teach item of an itrable and return a new itrable with the result.  \n",
    "- Example:  \n",
    "nums = [1, 2, 3, 4]  \n",
    "squares = list(map(lambda x: x * x, nums))  \n",
    "print(squares)  # [1, 4, 9, 16]\n",
    "- Syntax:  \n",
    "map(function, iterable)"
   ]
  },
  {
   "cell_type": "markdown",
   "id": "ae9276cd-122c-481c-9b0b-898c020ee5c6",
   "metadata": {},
   "source": [
    "# Q.10 What is the difference between map(), reduce(), and filter() functions?\n",
    "ANS:\n",
    "| Point | map()                           | filter()                          | reduce()                           |\n",
    "| ----- | ------------------------------- | --------------------------------- | ---------------------------------- |\n",
    "| 1     | Applies function to each item   | Selects items where function True | Combines all items into one result |\n",
    "| 2     | Returns a map object (iterable) | Returns a filter object           | Returns a single value             |\n",
    "| 3     | Used to transform data          | Used to filter/select data        | Used to reduce/combine data        |\n",
    "| 4     | Built-in function               | Built-in function                 | Needs to import from `functools`   |\n",
    "| 5     | `map(lambda x: x+1, list)`      | `filter(lambda x: x>0, list)`     | `reduce(lambda x,y:x+y, list)`     |\n",
    "\n"
   ]
  },
  {
   "cell_type": "markdown",
   "id": "b85f07a8-7532-41eb-88ba-424e29708c24",
   "metadata": {},
   "source": [
    "# Q.11 Use pan and paper write the internal ,mechanism for sum opearation using Reduce function on this given list: [47, 11, 42, 13]\n",
    "ANS:  \n",
    "from functools import reduce  \n",
    "reduce(lambda x, y: x + y, [47, 11, 42, 13])#OUTPUT :113\n",
    "# <img src=\"ANS.jpg\" width=\"300\">\n",
    "![My Image](ans.jpg)\n",
    "\n",
    "\n"
   ]
  },
  {
   "cell_type": "markdown",
   "id": "ca3bbc0d-0b7b-46a5-aaa7-ccf6f95020b3",
   "metadata": {},
   "source": [
    "PRACTICAL QUESTIONS"
   ]
  },
  {
   "cell_type": "code",
   "execution_count": 42,
   "id": "2acdeaa7-fc14-4cdb-a5f6-c8684d5c17d0",
   "metadata": {},
   "outputs": [
    {
     "name": "stdout",
     "output_type": "stream",
     "text": [
      "sum of even numbers: 0\n"
     ]
    }
   ],
   "source": [
    "# Q.1 Write a python function that takes a list of numbers as input and return the sum of all even numbers in the list.\n",
    "def sum_of_even_numbers(numbers):\n",
    "  even_sum =0\n",
    "  for num in numbers:\n",
    "    if num % 2 ==0:\n",
    "        even_sum +=num\n",
    "    return even_sum\n",
    "my_list=[1,2,3,4,5,6]\n",
    "print(\"sum of even numbers:\",sum_of_even_numbers(my_list))\n"
   ]
  },
  {
   "cell_type": "code",
   "execution_count": 44,
   "id": "c4009d94-0175-4da4-bd06-a2921b1376fa",
   "metadata": {},
   "outputs": [
    {
     "name": "stdout",
     "output_type": "stream",
     "text": [
      "Reversed string: dlrow olleh\n"
     ]
    }
   ],
   "source": [
    "# Q.2 Create a python function that accepts a string and return the reverse of that string.\n",
    "def reverse_str(word):\n",
    "    return word[::-1]\n",
    "my_word=\"hello world\"\n",
    "print(\"Reversed string:\", reverse_str(my_word))"
   ]
  },
  {
   "cell_type": "code",
   "execution_count": 46,
   "id": "6fd2c106-71d3-4dd1-9ba3-520db503d3e5",
   "metadata": {},
   "outputs": [
    {
     "name": "stdout",
     "output_type": "stream",
     "text": [
      "square of all elements: [4, 16, 25, 36, 49]\n"
     ]
    }
   ],
   "source": [
    "# Q.3 Implement a python function that takes a list of numbers of integers and return  a new list combining th square of each numbers.\n",
    "def square_of_list_element(numbers):\n",
    "    result=[]\n",
    "    for num in numbers:\n",
    "       result.append(num**2)\n",
    "    return result\n",
    "list =[2,4,5,6,7]\n",
    "print(\"square of all elements:\", square_of_list_element(list))"
   ]
  },
  {
   "cell_type": "code",
   "execution_count": 95,
   "id": "0c9d88ba-84d1-469e-90c4-96c119c914bc",
   "metadata": {},
   "outputs": [
    {
     "name": "stdin",
     "output_type": "stream",
     "text": [
      "Enter a number: 3\n"
     ]
    },
    {
     "name": "stdout",
     "output_type": "stream",
     "text": [
      "3 is a prime number:\n"
     ]
    }
   ],
   "source": [
    "# Q.4 Write a python function  that checks if  given number is prime or not from 1 to 200.\n",
    "def is_prime(n):\n",
    "    for i in range(2,n):\n",
    "        if n % i ==0:\n",
    "            return False\n",
    "        return n>1\n",
    "num = int(input(\"Enter a number:\"))\n",
    "if is_prime(num):\n",
    "    print(num,\"is a prime number:\")\n",
    "else:\n",
    "    print(num,\"is not a prime number\")\n"
   ]
  },
  {
   "cell_type": "code",
   "execution_count": 50,
   "id": "416c49a7-5e2a-472a-b4bd-be28f278d442",
   "metadata": {},
   "outputs": [
    {
     "name": "stdout",
     "output_type": "stream",
     "text": [
      "0 1 1 2 3 "
     ]
    }
   ],
   "source": [
    "# Q.5 Create an iterator class in Python that generates the Fibonacci sequence up to a specified number of terms.\n",
    "class Fibonacci:\n",
    "    def __init__(self, n):\n",
    "        self.n = n\n",
    "        self.a = 0\n",
    "        self.b = 1\n",
    "        self.count = 0\n",
    "\n",
    "    def __iter__(self):\n",
    "        return self\n",
    "\n",
    "    def __next__(self):\n",
    "        if self.count < self.n:\n",
    "            result = self.a\n",
    "            self.a, self.b = self.b, self.a + self.b\n",
    "            self.count += 1\n",
    "            return result\n",
    "        else:\n",
    "            raise StopIteration\n",
    "\n",
    "# Example\n",
    "for num in Fibonacci(5):\n",
    "    print(num, end=\" \") "
   ]
  },
  {
   "cell_type": "code",
   "execution_count": 52,
   "id": "2c08875f-6174-46c8-a076-6c8d16777455",
   "metadata": {},
   "outputs": [
    {
     "name": "stdout",
     "output_type": "stream",
     "text": [
      "1 2 4 8 16 "
     ]
    }
   ],
   "source": [
    "# Q.6 Write a generator function in Python that yields the powers of 2 up to a given exponent.\n",
    "\n",
    "def powers_of_two(n):\n",
    "    for i in range(n + 1):\n",
    "        yield 2 ** i\n",
    "\n",
    "# Example\n",
    "for power in powers_of_two(4):\n",
    "    print(power, end=\" \")  "
   ]
  },
  {
   "cell_type": "code",
   "execution_count": 18,
   "id": "0152020a-1b0a-4ca7-99bf-f4fe14f132af",
   "metadata": {},
   "outputs": [
    {
     "name": "stdout",
     "output_type": "stream",
     "text": [
      "📊 What is Data Science?\n",
      "Data Science is the study of data. It helps to find useful information from big data using computers, math, and smart tools.\n",
      "\n",
      "🧠 What it does:\n",
      "📥 Collects data\n",
      "\n",
      "🧹 Cleans and prepares it\n",
      "\n",
      "📈 Analyzes the data\n",
      "\n",
      "🔍 Finds patterns and meaning\n",
      "\n",
      "🧾 Gives results to help make decisions\n",
      "\n",
      "🔧 Tools used in Data Science:\n",
      "Tool/Language\tUse\n",
      "Python\tMain coding language\n",
      "Pandas\tWork with tables\n",
      "NumPy\tWork with numbers\n",
      "Matplotlib\tMake graphs\n",
      "SQL\tGet data from DB\n",
      "Excel\tSmall data handling\n",
      "\n",
      "💼 Where it is used?\n",
      "🏥 Hospitals – predict diseases\n",
      "\n",
      "🛍️ Shopping apps – show best offers\n",
      "\n",
      "🚗 Cars – self-driving systems\n",
      "\n",
      "🎬 Netflix – suggest movies\n",
      "\n",
      "📱 Instagram – detect fake accounts\n",
      "\n",
      "👩‍💻 Data Scientist Skills:\n",
      "Python or R coding\n",
      "\n",
      "Math and statistics\n",
      "\n",
      "Machine learning\n",
      "\n",
      "Data visualization\n",
      "\n",
      "Problem-solving\n",
      "\n",
      "🎯 Goal of Data Science:\n",
      "\"Turn raw data into useful knowledge.\"\n"
     ]
    }
   ],
   "source": [
    "# Q.7 Implement a generator function that reads a file line by line and yields one line at a time.\n",
    "\n",
    "def read_file_line_by_line(file_path):\n",
    "    with open(file_path, 'r', encoding='utf-8') as file:\n",
    "        for line in file:\n",
    "            yield line\n",
    "\n",
    "# Example usage\n",
    "file_path = \"DATA SCIENCE_INFO.txt\"\n",
    "\n",
    "for line in read_file_line_by_line(file_path):\n",
    "    print(line.strip())\n"
   ]
  },
  {
   "cell_type": "code",
   "execution_count": 54,
   "id": "ad6437a6-c5dc-4243-b3ba-e0101584fc74",
   "metadata": {},
   "outputs": [
    {
     "name": "stdout",
     "output_type": "stream",
     "text": [
      "Sorted tuples: [('b', 1), ('c', 2), ('a', 3)]\n"
     ]
    }
   ],
   "source": [
    "# Q.8 Use a lambda function in Python to sort a list of tuples based on the second element in each tuple.\n",
    "\n",
    "data = [(\"a\", 3), (\"b\", 1), (\"c\", 2)]\n",
    "\n",
    "sorted_data = sorted(data, key=lambda x: x[1])\n",
    "print(\"Sorted tuples:\", sorted_data)  "
   ]
  },
  {
   "cell_type": "code",
   "execution_count": 68,
   "id": "372e20c5-a814-4f43-90b8-6540428ceaa5",
   "metadata": {},
   "outputs": [
    {
     "name": "stdout",
     "output_type": "stream",
     "text": [
      "Celsius: [0, 20, 37, 100]\n",
      "Fahrenheit: [32.0, 68.0, 98.6, 212.0]\n"
     ]
    }
   ],
   "source": [
    "# Q.9 Write a Python program that uses map() to convert a list of temperatures from Celsius to Fahrenheit.\n",
    "# List of temperatures in Celsius\n",
    "celsius_temps = [0, 20, 37, 100]\n",
    "\n",
    "# Empty list to store Fahrenheit values\n",
    "fahrenheit_temps = []\n",
    "\n",
    "# Convert each Celsius to Fahrenheit\n",
    "for c in celsius_temps:\n",
    "    f = (c * 9/5) + 32\n",
    "    fahrenheit_temps.append(f)\n",
    "\n",
    "# Print the result\n",
    "print(\"Celsius:\", celsius_temps)\n",
    "print(\"Fahrenheit:\", fahrenheit_temps)\n",
    "\n",
    "\n"
   ]
  },
  {
   "cell_type": "code",
   "execution_count": 70,
   "id": "f1c38441-9f5f-4b27-8e25-6087299b67cf",
   "metadata": {},
   "outputs": [
    {
     "name": "stdout",
     "output_type": "stream",
     "text": [
      "Without vowels: Hll Wrld\n"
     ]
    }
   ],
   "source": [
    "# Q.10 Create a Python program that uses filter() to remove all the vowels from a given string.\n",
    "def remove_vowels(text):\n",
    "    return ''.join(filter(lambda x: x.lower() not in 'aeiou', text))\n",
    "\n",
    "# Example\n",
    "print(\"Without vowels:\", remove_vowels(\"Hello World\"))  # Output: Hll Wrld\n"
   ]
  },
  {
   "cell_type": "code",
   "execution_count": 88,
   "id": "1c610379-c774-4611-83f3-3cef44fe63a3",
   "metadata": {},
   "outputs": [
    {
     "name": "stdout",
     "output_type": "stream",
     "text": [
      "[(345267, 1350), (397622, 2500), (392773, 1600), (395195, 3900), (111111, 100)]\n"
     ]
    }
   ],
   "source": [
    "# Q.11 Write a python program, which retur a list with 2-tuple. each tuple consist of the order numberand product of the price per item and quentity.the product should be increased by 10.-c if the value of the order is smaller than 100.0\n",
    "\n",
    "books = [\n",
    "    (345267, \"Learning Python, Mark Lutz\", 3, 450),\n",
    "    (397622, \"Programming Python, Mark Lutz\", 5, 500),\n",
    "    (392773, \"Python Pocket Ref, Mark Lutz\", 4, 400),\n",
    "    (395195, \"Python in a Nutshell, Martelli\", 6, 650),\n",
    "    (111111, \"Small Book\", 1, 90)  # just added 1 small order to test < 100\n",
    "]\n",
    "\n",
    "# Step 1: (order number, qty × price)\n",
    "order_values = list(map(lambda x: (x[0], x[2] * x[3]), books))\n",
    "\n",
    "# Step 2: Add ₹10 if value < 100\n",
    "updated_orders = list(map(lambda x: (x[0], x[1] + 10) if x[1] < 100 else x, order_values))\n",
    "\n",
    "# Print result\n",
    "print(updated_orders)\n"
   ]
  }
 ],
 "metadata": {
  "kernelspec": {
   "display_name": "Python [conda env:base] *",
   "language": "python",
   "name": "conda-base-py"
  },
  "language_info": {
   "codemirror_mode": {
    "name": "ipython",
    "version": 3
   },
   "file_extension": ".py",
   "mimetype": "text/x-python",
   "name": "python",
   "nbconvert_exporter": "python",
   "pygments_lexer": "ipython3",
   "version": "3.12.7"
  }
 },
 "nbformat": 4,
 "nbformat_minor": 5
}
